{
 "cells": [
  {
   "cell_type": "code",
   "execution_count": 31,
   "metadata": {},
   "outputs": [],
   "source": [
    "import pandas as pd\n",
    "import numpy as np\n",
    "\n",
    "from sklearn.preprocessing import LabelEncoder, StandardScaler, OneHotEncoder\n",
    "from sklearn.model_selection import train_test_split, GridSearchCV\n",
    "from sklearn.metrics import accuracy_score, confusion_matrix, classification_report\n",
    "from sklearn.svm import SVC\n",
    "\n",
    "import matplotlib.pyplot as plt\n",
    "\n",
    "import warnings\n",
    "warnings.filterwarnings(\"ignore\")"
   ]
  },
  {
   "cell_type": "code",
   "execution_count": null,
   "metadata": {},
   "outputs": [],
   "source": [
    "df = pd.read_csv('https://archive.ics.uci.edu/ml/machine-learning-databases/00290/eb.arff', header=None, names=('forkva','forkw','type','sector','service'))\n",
    "df = df.replace(' ?', np.nan)\n",
    "df.dropna(inplace=True)\n",
    "df.head()"
   ]
  },
  {
   "cell_type": "code",
   "execution_count": null,
   "metadata": {},
   "outputs": [],
   "source": [
    "print(df.service.value_counts())"
   ]
  },
  {
   "cell_type": "code",
   "execution_count": null,
   "metadata": {},
   "outputs": [],
   "source": [
    "# perform label encoding on the categorical features\n",
    "ohe = OneHotEncoder()\n",
    "le = LabelEncoder()\n",
    "df.service= le.fit_transform(df.service)\n",
    "df = pd.get_dummies(df, columns = ['forkva','forkw','type','sector','service'])\n",
    "df.head()"
   ]
  },
  {
   "cell_type": "code",
   "execution_count": 37,
   "metadata": {},
   "outputs": [
    {
     "data": {
      "text/plain": [
       "(30162, 105)"
      ]
     },
     "execution_count": 37,
     "metadata": {},
     "output_type": "execute_result"
    }
   ],
   "source": [
    "df.shape"
   ]
  },
  {
   "cell_type": "code",
   "execution_count": 38,
   "metadata": {},
   "outputs": [
    {
     "name": "stdout",
     "output_type": "stream",
     "text": [
      "{'C': 0.5, 'degree': 1, 'gamma': 0.1, 'kernel': 'rbf'}\n",
      "Sample 1\n",
      "Accuracy: 0.7549723756906077\n",
      "\n",
      "{'C': 2, 'degree': 1, 'gamma': 0.1, 'kernel': 'rbf'}\n",
      "Sample 2\n",
      "Accuracy: 0.7538674033149171\n",
      "\n",
      "{'C': 0.5, 'degree': 1, 'gamma': 1, 'kernel': 'rbf'}\n",
      "Sample 3\n",
      "Accuracy: 0.7522099447513813\n",
      "\n",
      "{'C': 0.5, 'degree': 1, 'gamma': 0.1, 'kernel': 'rbf'}\n",
      "Sample 4\n",
      "Accuracy: 0.7488950276243094\n",
      "\n",
      "{'C': 0.5, 'degree': 1, 'gamma': 0.1, 'kernel': 'rbf'}\n",
      "Sample 5\n",
      "Accuracy: 0.7480662983425415\n",
      "\n",
      "{'C': 0.5, 'degree': 1, 'gamma': 0.1, 'kernel': 'rbf'}\n",
      "Sample 6\n",
      "Accuracy: 0.7511049723756906\n",
      "\n",
      "{'C': 0.1, 'degree': 1, 'gamma': 0.1, 'kernel': 'rbf'}\n",
      "Sample 7\n",
      "Accuracy: 0.7505524861878453\n",
      "\n",
      "{'C': 0.5, 'degree': 1, 'gamma': 0.1, 'kernel': 'rbf'}\n",
      "Sample 8\n",
      "Accuracy: 0.7458563535911602\n",
      "\n",
      "{'C': 0.1, 'degree': 1, 'gamma': 0.1, 'kernel': 'rbf'}\n",
      "Sample 9\n",
      "Accuracy: 0.7530386740331492\n",
      "\n",
      "{'C': 1, 'degree': 1, 'gamma': 0.1, 'kernel': 'rbf'}\n",
      "Sample 10\n",
      "Accuracy: 0.7511049723756906\n",
      "\n"
     ]
    }
   ],
   "source": [
    "max_acc = 0\n",
    "acc_list = []\n",
    "param_list = []\n",
    "for i in range(10):\n",
    "    sample_df = df.sample(frac=0.40, replace=False)\n",
    "    x_train, x_test, y_train, y_test = train_test_split(sample_df.drop('service', axis=1), sample_df.sevice, test_size=0.3, random_state=42, stratify=sample_df.service)\n",
    "    x_train = StandardScaler().fit_transform(x_train)\n",
    "    param_grid = { \n",
    "                'C':[0.1, 0.5, 1, 2, 3],\n",
    "                'kernel':['rbf', 'poly', 'sigmoid', 'linear'],\n",
    "                'degree':[1, 2, 3, 4],\n",
    "                'gamma': [1, 0.1, 0.01, 0.001, 0.0001]\n",
    "                }\n",
    "    \n",
    "    grid = GridSearchCV(SVC(max_iter=100), param_grid)\n",
    "    grid.fit(x_train, y_train)  \n",
    "    y_pred = grid.predict(x_test)\n",
    "    print(grid.best_params_)\n",
    "    print('Sample {}'.format(i+1))\n",
    "    print('Accuracy: {}\\n'.format(accuracy_score(y_test, y_pred))) \n",
    "    \n",
    "    acc_list.append(accuracy_score(y_test, y_pred))\n",
    "    param_list.append(grid.best_params_)\n",
    "    \n",
    "    if accuracy_score(y_test, y_pred) > max_acc:\n",
    "        max_acc = accuracy_score(y_test, y_pred)\n",
    "        best_params = grid.best_params_\n",
    "        best_model = grid.best_estimator_\n",
    "        best_sample_df = sample_df"
   ]
  },
  {
   "cell_type": "code",
   "execution_count": null,
   "metadata": {},
   "outputs": [
    {
     "name": "stdout",
     "output_type": "stream",
     "text": [
      "[0.7528735632183908, 0.75552608311229, 0.7462422634836428, 0.7541998231653404, 0.7550839964633068, 0.7519893899204244, 0.7524314765694076, 0.746684350132626, 0.7480106100795756, 0.7449160035366932]\n",
      "[{'C': 1, 'degree': 1, 'gamma': 0.1, 'kernel': 'rbf'}, {'C': 2, 'degree': 1, 'gamma': 0.1, 'kernel': 'rbf'}, {'C': 1, 'degree': 1, 'gamma': 0.1, 'kernel': 'rbf'}, {'C': 2, 'degree': 1, 'gamma': 0.1, 'kernel': 'rbf'}, {'C': 1, 'degree': 1, 'gamma': 0.1, 'kernel': 'rbf'}, {'C': 3, 'degree': 1, 'gamma': 0.1, 'kernel': 'rbf'}, {'C': 1, 'degree': 1, 'gamma': 0.1, 'kernel': 'rbf'}, {'C': 3, 'degree': 1, 'gamma': 0.01, 'kernel': 'rbf'}, {'C': 1, 'degree': 1, 'gamma': 0.1, 'kernel': 'rbf'}, {'C': 1, 'degree': 1, 'gamma': 0.1, 'kernel': 'rbf'}]\n"
     ]
    }
   ],
   "source": [
    "print(acc_list)\n",
    "print(param_list)"
   ]
  },
  {
   "cell_type": "code",
   "execution_count": null,
   "metadata": {},
   "outputs": [
    {
     "data": {
      "text/html": [
       "<div>\n",
       "<style scoped>\n",
       "    .dataframe tbody tr th:only-of-type {\n",
       "        vertical-align: middle;\n",
       "    }\n",
       "\n",
       "    .dataframe tbody tr th {\n",
       "        vertical-align: top;\n",
       "    }\n",
       "\n",
       "    .dataframe thead th {\n",
       "        text-align: right;\n",
       "    }\n",
       "</style>\n",
       "<table border=\"1\" class=\"dataframe\">\n",
       "  <thead>\n",
       "    <tr style=\"text-align: right;\">\n",
       "      <th></th>\n",
       "      <th>Accuracy</th>\n",
       "      <th>Parameters</th>\n",
       "    </tr>\n",
       "  </thead>\n",
       "  <tbody>\n",
       "    <tr>\n",
       "      <th>0</th>\n",
       "      <td>0.752874</td>\n",
       "      <td>{'C': 1, 'degree': 1, 'gamma': 0.1, 'kernel': ...</td>\n",
       "    </tr>\n",
       "    <tr>\n",
       "      <th>1</th>\n",
       "      <td>0.755526</td>\n",
       "      <td>{'C': 2, 'degree': 1, 'gamma': 0.1, 'kernel': ...</td>\n",
       "    </tr>\n",
       "    <tr>\n",
       "      <th>2</th>\n",
       "      <td>0.746242</td>\n",
       "      <td>{'C': 1, 'degree': 1, 'gamma': 0.1, 'kernel': ...</td>\n",
       "    </tr>\n",
       "    <tr>\n",
       "      <th>3</th>\n",
       "      <td>0.7542</td>\n",
       "      <td>{'C': 2, 'degree': 1, 'gamma': 0.1, 'kernel': ...</td>\n",
       "    </tr>\n",
       "    <tr>\n",
       "      <th>4</th>\n",
       "      <td>0.755084</td>\n",
       "      <td>{'C': 1, 'degree': 1, 'gamma': 0.1, 'kernel': ...</td>\n",
       "    </tr>\n",
       "    <tr>\n",
       "      <th>5</th>\n",
       "      <td>0.751989</td>\n",
       "      <td>{'C': 3, 'degree': 1, 'gamma': 0.1, 'kernel': ...</td>\n",
       "    </tr>\n",
       "    <tr>\n",
       "      <th>6</th>\n",
       "      <td>0.752431</td>\n",
       "      <td>{'C': 1, 'degree': 1, 'gamma': 0.1, 'kernel': ...</td>\n",
       "    </tr>\n",
       "    <tr>\n",
       "      <th>7</th>\n",
       "      <td>0.746684</td>\n",
       "      <td>{'C': 3, 'degree': 1, 'gamma': 0.01, 'kernel':...</td>\n",
       "    </tr>\n",
       "    <tr>\n",
       "      <th>8</th>\n",
       "      <td>0.748011</td>\n",
       "      <td>{'C': 1, 'degree': 1, 'gamma': 0.1, 'kernel': ...</td>\n",
       "    </tr>\n",
       "    <tr>\n",
       "      <th>9</th>\n",
       "      <td>0.744916</td>\n",
       "      <td>{'C': 1, 'degree': 1, 'gamma': 0.1, 'kernel': ...</td>\n",
       "    </tr>\n",
       "  </tbody>\n",
       "</table>\n",
       "</div>"
      ],
      "text/plain": [
       "   Accuracy                                         Parameters\n",
       "0  0.752874  {'C': 1, 'degree': 1, 'gamma': 0.1, 'kernel': ...\n",
       "1  0.755526  {'C': 2, 'degree': 1, 'gamma': 0.1, 'kernel': ...\n",
       "2  0.746242  {'C': 1, 'degree': 1, 'gamma': 0.1, 'kernel': ...\n",
       "3    0.7542  {'C': 2, 'degree': 1, 'gamma': 0.1, 'kernel': ...\n",
       "4  0.755084  {'C': 1, 'degree': 1, 'gamma': 0.1, 'kernel': ...\n",
       "5  0.751989  {'C': 3, 'degree': 1, 'gamma': 0.1, 'kernel': ...\n",
       "6  0.752431  {'C': 1, 'degree': 1, 'gamma': 0.1, 'kernel': ...\n",
       "7  0.746684  {'C': 3, 'degree': 1, 'gamma': 0.01, 'kernel':...\n",
       "8  0.748011  {'C': 1, 'degree': 1, 'gamma': 0.1, 'kernel': ...\n",
       "9  0.744916  {'C': 1, 'degree': 1, 'gamma': 0.1, 'kernel': ..."
      ]
     },
     "execution_count": 46,
     "metadata": {},
     "output_type": "execute_result"
    }
   ],
   "source": [
    "final_df = pd.DataFrame(data=[acc_list, param_list], index=['Accuracy', 'Parameters']).T\n",
    "final_df"
   ]
  },
  {
   "cell_type": "code",
   "execution_count": null,
   "metadata": {},
   "outputs": [
    {
     "name": "stdout",
     "output_type": "stream",
     "text": [
      "0.75552608311229\n",
      "{'C': 2, 'degree': 1, 'gamma': 0.1, 'kernel': 'rbf'}\n",
      "SVC(C=2, degree=1, gamma=0.1, max_iter=1000)\n"
     ]
    },
    {
     "data": {
      "text/html": [
       "<div>\n",
       "<style scoped>\n",
       "    .dataframe tbody tr th:only-of-type {\n",
       "        vertical-align: middle;\n",
       "    }\n",
       "\n",
       "    .dataframe tbody tr th {\n",
       "        vertical-align: top;\n",
       "    }\n",
       "\n",
       "    .dataframe thead th {\n",
       "        text-align: right;\n",
       "    }\n",
       "</style>\n",
       "<table border=\"1\" class=\"dataframe\">\n",
       "  <thead>\n",
       "    <tr style=\"text-align: right;\">\n",
       "      <th></th>\n",
       "      <th>age</th>\n",
       "      <th>workclass</th>\n",
       "      <th>fnlwgt</th>\n",
       "      <th>education</th>\n",
       "      <th>education_num</th>\n",
       "      <th>marital_status</th>\n",
       "      <th>occupation</th>\n",
       "      <th>relationship</th>\n",
       "      <th>race</th>\n",
       "      <th>sex</th>\n",
       "      <th>capital_gain</th>\n",
       "      <th>capital_loss</th>\n",
       "      <th>hours_per_week</th>\n",
       "      <th>native_country</th>\n",
       "      <th>salary</th>\n",
       "    </tr>\n",
       "  </thead>\n",
       "  <tbody>\n",
       "    <tr>\n",
       "      <th>32537</th>\n",
       "      <td>30</td>\n",
       "      <td>2</td>\n",
       "      <td>345898</td>\n",
       "      <td>11</td>\n",
       "      <td>9</td>\n",
       "      <td>4</td>\n",
       "      <td>2</td>\n",
       "      <td>1</td>\n",
       "      <td>2</td>\n",
       "      <td>1</td>\n",
       "      <td>0</td>\n",
       "      <td>0</td>\n",
       "      <td>46</td>\n",
       "      <td>38</td>\n",
       "      <td>0</td>\n",
       "    </tr>\n",
       "    <tr>\n",
       "      <th>17849</th>\n",
       "      <td>39</td>\n",
       "      <td>4</td>\n",
       "      <td>107233</td>\n",
       "      <td>11</td>\n",
       "      <td>9</td>\n",
       "      <td>4</td>\n",
       "      <td>2</td>\n",
       "      <td>2</td>\n",
       "      <td>0</td>\n",
       "      <td>1</td>\n",
       "      <td>0</td>\n",
       "      <td>0</td>\n",
       "      <td>40</td>\n",
       "      <td>38</td>\n",
       "      <td>0</td>\n",
       "    </tr>\n",
       "    <tr>\n",
       "      <th>6903</th>\n",
       "      <td>54</td>\n",
       "      <td>5</td>\n",
       "      <td>197184</td>\n",
       "      <td>9</td>\n",
       "      <td>13</td>\n",
       "      <td>2</td>\n",
       "      <td>3</td>\n",
       "      <td>0</td>\n",
       "      <td>4</td>\n",
       "      <td>1</td>\n",
       "      <td>0</td>\n",
       "      <td>0</td>\n",
       "      <td>38</td>\n",
       "      <td>38</td>\n",
       "      <td>0</td>\n",
       "    </tr>\n",
       "    <tr>\n",
       "      <th>14988</th>\n",
       "      <td>34</td>\n",
       "      <td>2</td>\n",
       "      <td>185041</td>\n",
       "      <td>11</td>\n",
       "      <td>9</td>\n",
       "      <td>4</td>\n",
       "      <td>9</td>\n",
       "      <td>1</td>\n",
       "      <td>4</td>\n",
       "      <td>0</td>\n",
       "      <td>0</td>\n",
       "      <td>1669</td>\n",
       "      <td>45</td>\n",
       "      <td>38</td>\n",
       "      <td>0</td>\n",
       "    </tr>\n",
       "    <tr>\n",
       "      <th>23335</th>\n",
       "      <td>19</td>\n",
       "      <td>2</td>\n",
       "      <td>307496</td>\n",
       "      <td>15</td>\n",
       "      <td>10</td>\n",
       "      <td>4</td>\n",
       "      <td>7</td>\n",
       "      <td>3</td>\n",
       "      <td>4</td>\n",
       "      <td>0</td>\n",
       "      <td>0</td>\n",
       "      <td>0</td>\n",
       "      <td>23</td>\n",
       "      <td>38</td>\n",
       "      <td>0</td>\n",
       "    </tr>\n",
       "  </tbody>\n",
       "</table>\n",
       "</div>"
      ],
      "text/plain": [
       "       age  workclass  fnlwgt  education  education_num  marital_status  \\\n",
       "32537   30          2  345898         11              9               4   \n",
       "17849   39          4  107233         11              9               4   \n",
       "6903    54          5  197184          9             13               2   \n",
       "14988   34          2  185041         11              9               4   \n",
       "23335   19          2  307496         15             10               4   \n",
       "\n",
       "       occupation  relationship  race  sex  capital_gain  capital_loss  \\\n",
       "32537           2             1     2    1             0             0   \n",
       "17849           2             2     0    1             0             0   \n",
       "6903            3             0     4    1             0             0   \n",
       "14988           9             1     4    0             0          1669   \n",
       "23335           7             3     4    0             0             0   \n",
       "\n",
       "       hours_per_week  native_country  salary  \n",
       "32537              46              38       0  \n",
       "17849              40              38       0  \n",
       "6903               38              38       0  \n",
       "14988              45              38       0  \n",
       "23335              23              38       0  "
      ]
     },
     "execution_count": 42,
     "metadata": {},
     "output_type": "execute_result"
    }
   ],
   "source": [
    "print(max_acc)\n",
    "print(best_params)\n",
    "print(best_model)\n",
    "best_sample_df.head()"
   ]
  },
  {
   "cell_type": "code",
   "execution_count": null,
   "metadata": {},
   "outputs": [],
   "source": [
    "iterations = list()\n",
    "acc_list = list()\n",
    "x_train, x_test, y_train, y_test = train_test_split(best_sample_df.drop('salary', axis=1), best_sample_df.salary, test_size=0.3, random_state=42, stratify=best_sample_df.salary)\n",
    "x_train = StandardScaler().fit_transform(x_train)\n",
    "\n",
    "for i in range(100):\n",
    "    x = i+1\n",
    "    svm = SVC(C=2, degree=1, gamma=0.1, kernel='rbf', max_iter=x)\n",
    "    svm.fit(x_train, y_train)\n",
    "    y_pred = svm.predict(x_test)\n",
    "    accuracy = accuracy_score(y_test, y_pred)\n",
    "    acc_list.append(accuracy)\n",
    "    iterations.append(x)"
   ]
  },
  {
   "cell_type": "code",
   "execution_count": null,
   "metadata": {},
   "outputs": [],
   "source": [
    "iterations = np.array(iterations)\n",
    "acc_list = np.array(acc_list)"
   ]
  },
  {
   "cell_type": "code",
   "execution_count": null,
   "metadata": {},
   "outputs": [
    {
     "name": "stdout",
     "output_type": "stream",
     "text": [
      "(100,)\n",
      "(100,)\n"
     ]
    }
   ],
   "source": [
    "print(iterations.shape)\n",
    "print(acc_list.shape)"
   ]
  },
  {
   "cell_type": "code",
   "execution_count": null,
   "metadata": {},
   "outputs": [],
   "source": [
    "plt.plot(iterations, acc_list)\n",
    "plt.xlabel('Number of iterations')\n",
    "plt.ylabel('Accuracy')\n",
    "plt.title('Convergence of SVC')\n",
    "plt.show()"
   ]
  }
 ],
 "metadata": {
  "kernelspec": {
   "display_name": "Python 3",
   "language": "python",
   "name": "python3"
  },
  "language_info": {
   "codemirror_mode": {
    "name": "ipython",
    "version": 3
   },
   "file_extension": ".py",
   "mimetype": "text/x-python",
   "name": "python",
   "nbconvert_exporter": "python",
   "pygments_lexer": "ipython3",
   "version": "3.11.1"
  },
  "orig_nbformat": 4,
  "vscode": {
   "interpreter": {
    "hash": "aee8b7b246df8f9039afb4144a1f6fd8d2ca17a180786b69acc140d282b71a49"
   }
  }
 },
 "nbformat": 4,
 "nbformat_minor": 2
}
